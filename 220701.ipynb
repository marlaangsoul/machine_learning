{
 "cells": [
  {
   "cell_type": "code",
   "execution_count": 1,
   "id": "3c466844",
   "metadata": {},
   "outputs": [
    {
     "name": "stdout",
     "output_type": "stream",
     "text": [
      "Requirement already satisfied: scikit-learn in c:\\users\\notebook\\.conda\\envs\\py38\\lib\\site-packages (1.1.1)\n",
      "Requirement already satisfied: threadpoolctl>=2.0.0 in c:\\users\\notebook\\.conda\\envs\\py38\\lib\\site-packages (from scikit-learn) (3.1.0)\n",
      "Requirement already satisfied: numpy>=1.17.3 in c:\\users\\notebook\\.conda\\envs\\py38\\lib\\site-packages (from scikit-learn) (1.22.4)\n",
      "Requirement already satisfied: scipy>=1.3.2 in c:\\users\\notebook\\.conda\\envs\\py38\\lib\\site-packages (from scikit-learn) (1.8.1)\n",
      "Requirement already satisfied: joblib>=1.0.0 in c:\\users\\notebook\\.conda\\envs\\py38\\lib\\site-packages (from scikit-learn) (1.1.0)\n"
     ]
    }
   ],
   "source": [
    "!pip install scikit-learn"
   ]
  },
  {
   "cell_type": "code",
   "execution_count": 2,
   "id": "a6c53808",
   "metadata": {},
   "outputs": [],
   "source": [
    "from sklearn import svm"
   ]
  },
  {
   "cell_type": "code",
   "execution_count": 3,
   "id": "ead2a60c",
   "metadata": {},
   "outputs": [],
   "source": [
    "xor_data = [\n",
    "    [0,0,0],\n",
    "    [0,1,1],\n",
    "    [1,0,1],\n",
    "    [1,1,0]\n",
    "]"
   ]
  },
  {
   "cell_type": "markdown",
   "id": "f361cbff",
   "metadata": {},
   "source": [
    "지도 학습과 비지도 학습의 구별이 중요.\n",
    "\n",
    "레이블, 또는 타겟. \n",
    "[0,0,0]\n",
    "이라고 하면, 앞에 두개가 입력 데이터이고, 마지막 1개는 정답데이터이다. "
   ]
  },
  {
   "cell_type": "markdown",
   "id": "46fc7c4e",
   "metadata": {},
   "source": [
    "아래와 같이 분리해보자. "
   ]
  },
  {
   "cell_type": "code",
   "execution_count": 5,
   "id": "998bdb13",
   "metadata": {},
   "outputs": [],
   "source": [
    "data = []\n",
    "label =[]\n",
    "for row in xor_data:\n",
    "    p =row[0]\n",
    "    q =row[1]\n",
    "    r =row[2]\n",
    "    data.append([p,q])\n",
    "    label.append(r)"
   ]
  },
  {
   "cell_type": "code",
   "execution_count": 10,
   "id": "a53a5271",
   "metadata": {},
   "outputs": [
    {
     "data": {
      "text/html": [
       "<style>#sk-container-id-2 {color: black;background-color: white;}#sk-container-id-2 pre{padding: 0;}#sk-container-id-2 div.sk-toggleable {background-color: white;}#sk-container-id-2 label.sk-toggleable__label {cursor: pointer;display: block;width: 100%;margin-bottom: 0;padding: 0.3em;box-sizing: border-box;text-align: center;}#sk-container-id-2 label.sk-toggleable__label-arrow:before {content: \"▸\";float: left;margin-right: 0.25em;color: #696969;}#sk-container-id-2 label.sk-toggleable__label-arrow:hover:before {color: black;}#sk-container-id-2 div.sk-estimator:hover label.sk-toggleable__label-arrow:before {color: black;}#sk-container-id-2 div.sk-toggleable__content {max-height: 0;max-width: 0;overflow: hidden;text-align: left;background-color: #f0f8ff;}#sk-container-id-2 div.sk-toggleable__content pre {margin: 0.2em;color: black;border-radius: 0.25em;background-color: #f0f8ff;}#sk-container-id-2 input.sk-toggleable__control:checked~div.sk-toggleable__content {max-height: 200px;max-width: 100%;overflow: auto;}#sk-container-id-2 input.sk-toggleable__control:checked~label.sk-toggleable__label-arrow:before {content: \"▾\";}#sk-container-id-2 div.sk-estimator input.sk-toggleable__control:checked~label.sk-toggleable__label {background-color: #d4ebff;}#sk-container-id-2 div.sk-label input.sk-toggleable__control:checked~label.sk-toggleable__label {background-color: #d4ebff;}#sk-container-id-2 input.sk-hidden--visually {border: 0;clip: rect(1px 1px 1px 1px);clip: rect(1px, 1px, 1px, 1px);height: 1px;margin: -1px;overflow: hidden;padding: 0;position: absolute;width: 1px;}#sk-container-id-2 div.sk-estimator {font-family: monospace;background-color: #f0f8ff;border: 1px dotted black;border-radius: 0.25em;box-sizing: border-box;margin-bottom: 0.5em;}#sk-container-id-2 div.sk-estimator:hover {background-color: #d4ebff;}#sk-container-id-2 div.sk-parallel-item::after {content: \"\";width: 100%;border-bottom: 1px solid gray;flex-grow: 1;}#sk-container-id-2 div.sk-label:hover label.sk-toggleable__label {background-color: #d4ebff;}#sk-container-id-2 div.sk-serial::before {content: \"\";position: absolute;border-left: 1px solid gray;box-sizing: border-box;top: 0;bottom: 0;left: 50%;z-index: 0;}#sk-container-id-2 div.sk-serial {display: flex;flex-direction: column;align-items: center;background-color: white;padding-right: 0.2em;padding-left: 0.2em;position: relative;}#sk-container-id-2 div.sk-item {position: relative;z-index: 1;}#sk-container-id-2 div.sk-parallel {display: flex;align-items: stretch;justify-content: center;background-color: white;position: relative;}#sk-container-id-2 div.sk-item::before, #sk-container-id-2 div.sk-parallel-item::before {content: \"\";position: absolute;border-left: 1px solid gray;box-sizing: border-box;top: 0;bottom: 0;left: 50%;z-index: -1;}#sk-container-id-2 div.sk-parallel-item {display: flex;flex-direction: column;z-index: 1;position: relative;background-color: white;}#sk-container-id-2 div.sk-parallel-item:first-child::after {align-self: flex-end;width: 50%;}#sk-container-id-2 div.sk-parallel-item:last-child::after {align-self: flex-start;width: 50%;}#sk-container-id-2 div.sk-parallel-item:only-child::after {width: 0;}#sk-container-id-2 div.sk-dashed-wrapped {border: 1px dashed gray;margin: 0 0.4em 0.5em 0.4em;box-sizing: border-box;padding-bottom: 0.4em;background-color: white;}#sk-container-id-2 div.sk-label label {font-family: monospace;font-weight: bold;display: inline-block;line-height: 1.2em;}#sk-container-id-2 div.sk-label-container {text-align: center;}#sk-container-id-2 div.sk-container {/* jupyter's `normalize.less` sets `[hidden] { display: none; }` but bootstrap.min.css set `[hidden] { display: none !important; }` so we also need the `!important` here to be able to override the default hidden behavior on the sphinx rendered scikit-learn.org. See: https://github.com/scikit-learn/scikit-learn/issues/21755 */display: inline-block !important;position: relative;}#sk-container-id-2 div.sk-text-repr-fallback {display: none;}</style><div id=\"sk-container-id-2\" class=\"sk-top-container\"><div class=\"sk-text-repr-fallback\"><pre>SVC()</pre><b>In a Jupyter environment, please rerun this cell to show the HTML representation or trust the notebook. <br />On GitHub, the HTML representation is unable to render, please try loading this page with nbviewer.org.</b></div><div class=\"sk-container\" hidden><div class=\"sk-item\"><div class=\"sk-estimator sk-toggleable\"><input class=\"sk-toggleable__control sk-hidden--visually\" id=\"sk-estimator-id-2\" type=\"checkbox\" checked><label for=\"sk-estimator-id-2\" class=\"sk-toggleable__label sk-toggleable__label-arrow\">SVC</label><div class=\"sk-toggleable__content\"><pre>SVC()</pre></div></div></div></div></div>"
      ],
      "text/plain": [
       "SVC()"
      ]
     },
     "execution_count": 10,
     "metadata": {},
     "output_type": "execute_result"
    }
   ],
   "source": [
    "clf = svm.SVC()\n",
    "clf.fit(data, label) # 맞춰야 하는 것은 데디터, "
   ]
  },
  {
   "cell_type": "code",
   "execution_count": 13,
   "id": "9e32fd04",
   "metadata": {},
   "outputs": [],
   "source": [
    "pre = clf.predict(data)"
   ]
  },
  {
   "cell_type": "code",
   "execution_count": 16,
   "id": "d7928e72",
   "metadata": {},
   "outputs": [
    {
     "name": "stdout",
     "output_type": "stream",
     "text": [
      "accu : 4 / 4 = 1.0\n"
     ]
    }
   ],
   "source": [
    "ok = 0; total = 0\n",
    "for idx, answer in enumerate(label):\n",
    "    p = pre[idx]\n",
    "    if p == answer:\n",
    "        ok += 1\n",
    "    total += 1\n",
    "print('accu :', ok, '/', total, '=', ok/total)"
   ]
  },
  {
   "cell_type": "code",
   "execution_count": 17,
   "id": "3290cf07",
   "metadata": {},
   "outputs": [
    {
     "name": "stdout",
     "output_type": "stream",
     "text": [
      " 예측결과: [0 1 1 0]\n",
      "정답률: 4 / 4 = 1.0\n"
     ]
    }
   ],
   "source": [
    "# XOR의 계산 결과 데이터 --- (※1)\n",
    "xor_data = [\n",
    "    #P, Q, result\n",
    "    [0, 0, 0],\n",
    "    [0, 1, 1],\n",
    "    [1, 0, 1],\n",
    "    [1, 1, 0]\n",
    "]\n",
    "# 학습을 위해 데이터와 레이블 분리하기 --- (※2)\n",
    "# 학습시키기 fit() 매개변수에 필요\n",
    "data = []\n",
    "label = []\n",
    "for row in xor_data:\n",
    "    p = row[0]\n",
    "    q = row[1]\n",
    "    r = row[2]\n",
    "    data.append([p, q])\n",
    "    label.append(r)\n",
    "# 데이터 학습시키기 fit()--- (※3)\n",
    "# SVC 알고리즘 사용\n",
    "clf = svm.SVC()\n",
    "clf.fit(data, label)\n",
    "# 데이터 예측하기 predict() --- (※4)\n",
    "pre = clf.predict(data)\n",
    "print(\" 예측결과:\", pre)\n",
    "# 결과 확인하기 --- (※5)\n",
    "ok = 0; total = 0\n",
    "for idx, answer in enumerate(label):\n",
    "    p = pre[idx]\n",
    "    if p == answer: ok += 1\n",
    "    total += 1\n",
    "print(\"정답률:\", ok, \"/\", total, \"=\", ok/total)"
   ]
  },
  {
   "cell_type": "code",
   "execution_count": 18,
   "id": "3b2586c3",
   "metadata": {},
   "outputs": [],
   "source": [
    "import pandas as pd\n",
    "from sklearn import svm, metrics"
   ]
  },
  {
   "cell_type": "code",
   "execution_count": 22,
   "id": "8c881c88",
   "metadata": {},
   "outputs": [],
   "source": [
    "xor_df = pd.DataFrame(xor_data)\n",
    "data = xor_df.loc[:,0:1]\n",
    "label = xor_df.loc[:,2]   # 레이블"
   ]
  },
  {
   "cell_type": "code",
   "execution_count": 24,
   "id": "4a364c43",
   "metadata": {},
   "outputs": [],
   "source": [
    "# 데이터 학습과 예측하기 --- (※2)\n",
    "clf = svm.SVC()\n",
    "clf.fit(data, label)\n",
    "pre = clf.predict(data)"
   ]
  },
  {
   "cell_type": "code",
   "execution_count": 25,
   "id": "c43ebc40",
   "metadata": {},
   "outputs": [
    {
     "name": "stdout",
     "output_type": "stream",
     "text": [
      "정답률 = 1.0\n"
     ]
    }
   ],
   "source": [
    "# 정답률 구하기 --- (※3)\n",
    "ac_score = metrics.accuracy_score(label, pre)\n",
    "print(\"정답률 =\", ac_score)"
   ]
  },
  {
   "cell_type": "code",
   "execution_count": 27,
   "id": "e30a0187",
   "metadata": {},
   "outputs": [
    {
     "data": {
      "text/plain": [
       "0    0\n",
       "1    1\n",
       "2    1\n",
       "3    0\n",
       "Name: 2, dtype: int64"
      ]
     },
     "execution_count": 27,
     "metadata": {},
     "output_type": "execute_result"
    }
   ],
   "source": [
    "\n",
    "label"
   ]
  },
  {
   "cell_type": "code",
   "execution_count": 28,
   "id": "037d4aa8",
   "metadata": {
    "scrolled": true
   },
   "outputs": [
    {
     "data": {
      "text/plain": [
       "array([0, 1, 1, 0], dtype=int64)"
      ]
     },
     "execution_count": 28,
     "metadata": {},
     "output_type": "execute_result"
    }
   ],
   "source": [
    "pre"
   ]
  },
  {
   "cell_type": "markdown",
   "id": "a0591475",
   "metadata": {},
   "source": [
    "### 외국어 문장 판별하기\n",
    "- 외국어 글자를 읽어 들이고 어떤 언어인지 판정하는 프로그램 만들기\n",
    "- 알파벳을 사용하는 언어라도 프랑스어, 타갈로어(필리핀), 인도네시아어 등\n",
    "### 판정 방법\n",
    "- 글자를 곧바로 학습기에 넣을 수 없음\n",
    "- 글자를 나타내는 백터로 변경\n",
    "- 언어가 다르면 알파벳 출현 빈도가 다름(언어학)\n",
    "- a 부터 z 까지의 출현 빈도를 확인해서 이를 특징으로 사용\n",
    "### 샘플 데이터 수집\n",
    "- 각 언여별로 풍부한 데이터가 있는 위키피디아 글자 사용\n",
    "- 영어(en), 프랑스어(fr), 인도네시아(id), 타갈로어(tl) 테스트\n",
    "- 학습데이터 20개 / 테스트 8개\n",
    "### 웹 서비스\n",
    "- 학습 모델과 flask를 이용해서 판정 사이트 개발"
   ]
  },
  {
   "cell_type": "code",
   "execution_count": 61,
   "id": "49272197",
   "metadata": {},
   "outputs": [],
   "source": [
    "from sklearn import svm, metrics\n",
    "import glob, os.path, re, json"
   ]
  },
  {
   "cell_type": "markdown",
   "id": "421c42f3",
   "metadata": {},
   "source": [
    "def check_freq(fname):\n",
    "    name = os.path.basename(fname)\n",
    "    lang = re.match(r'[a-z]{2,}',name).group()\n",
    "    print(lang)"
   ]
  },
  {
   "cell_type": "markdown",
   "id": "03dd45f3",
   "metadata": {},
   "source": [
    "def load_file(path):\n",
    "    freqs = []\n",
    "    labels= []\n",
    "    file_list  = glob.glob(path)\n",
    "    for fname in file_list:\n",
    "        print(fname)"
   ]
  },
  {
   "cell_type": "markdown",
   "id": "38e8f801",
   "metadata": {},
   "source": [
    "path = './data/test/*.txt'\n",
    "file_list = glob.glob(path)\n",
    "for fname in file_list:\n",
    "    print(fname)"
   ]
  },
  {
   "cell_type": "markdown",
   "id": "0d79e437",
   "metadata": {},
   "source": [
    "print(fname)"
   ]
  },
  {
   "cell_type": "code",
   "execution_count": 70,
   "id": "184321b0",
   "metadata": {},
   "outputs": [],
   "source": [
    "# 텍스트를 읽어 들이고 출현 빈도 조사하기 --- (※1)\n",
    "def check_freq(fname):\n",
    "    name = os.path.basename(fname)\n",
    "    # 파일이름 앞의 두 문자가 언어 코드\n",
    "    lang = re.match(r'^[a-z]{2,}', name).group()\n",
    "#     print(name)\n",
    "#     print(lang)\n",
    "    with open(fname, \"r\", encoding=\"utf-8\") as f:\n",
    "        text = f.read()\n",
    "    text = text.lower() # 소문자 변환\n",
    "    # 숫자 세기 변수(cnt) 초기화하기\n",
    "    cnt = [n for n in range(0, 26)]\n",
    "    #ord() 함수 : 특정한 한 문자를 아스키 코드 값으로 변환해 주는 함수\n",
    "    code_a = ord(\"a\") # 97\n",
    "    code_z = ord(\"z\")\n",
    "    #print(code_a)\n",
    "    # 알파벳 출현 횟수 구하기 --- (※2)\n",
    "    for ch in text:\n",
    "        n = ord(ch)\n",
    "        #print(n)\n",
    "        if code_a <= n <= code_z: # a~z 사이에 있을 때, 알파벳만 처리\n",
    "            cnt[n - code_a] += 1\n",
    "    # 정규화하기 --- (※3) 하는 이유?? 각 텍스트파일에 글자수가 다르므로\n",
    "    total = sum(cnt)\n",
    "    freq = list(map(lambda n: n / total, cnt))\n",
    "    return (freq, lang)"
   ]
  },
  {
   "cell_type": "code",
   "execution_count": 72,
   "id": "ce49bb08",
   "metadata": {},
   "outputs": [],
   "source": [
    "# 각 파일 처리하기\n",
    "def load_files(path):\n",
    "    freqs = []\n",
    "    labels = []\n",
    "    # glob - 특정 파일만 출력하기\n",
    "    # https://wikidocs.net/3746\n",
    "    file_list = glob.glob(path)\n",
    "    for fname in file_list:\n",
    "        r = check_freq(fname)\n",
    "        freqs.append(r[0])\n",
    "        labels.append(r[1])\n",
    "    return {\"freqs\":freqs, \"labels\":labels}\n",
    "data = load_files(\"./data/test/*.txt\")\n",
    "test = load_files(\"./data/train/*.txt\")"
   ]
  },
  {
   "cell_type": "code",
   "execution_count": 73,
   "id": "805baf0d",
   "metadata": {
    "scrolled": false
   },
   "outputs": [],
   "source": [
    "# 이후를 대비해서 JSON으로 결과 저장하기 - 이미지 출력용\n",
    "with open(\"./data/freq.json\", \"w\", encoding=\"utf-8\") as fp:\n",
    "    json.dump([data, test], fp)"
   ]
  },
  {
   "cell_type": "code",
   "execution_count": 74,
   "id": "97023da7",
   "metadata": {},
   "outputs": [
    {
     "data": {
      "text/html": [
       "<style>#sk-container-id-4 {color: black;background-color: white;}#sk-container-id-4 pre{padding: 0;}#sk-container-id-4 div.sk-toggleable {background-color: white;}#sk-container-id-4 label.sk-toggleable__label {cursor: pointer;display: block;width: 100%;margin-bottom: 0;padding: 0.3em;box-sizing: border-box;text-align: center;}#sk-container-id-4 label.sk-toggleable__label-arrow:before {content: \"▸\";float: left;margin-right: 0.25em;color: #696969;}#sk-container-id-4 label.sk-toggleable__label-arrow:hover:before {color: black;}#sk-container-id-4 div.sk-estimator:hover label.sk-toggleable__label-arrow:before {color: black;}#sk-container-id-4 div.sk-toggleable__content {max-height: 0;max-width: 0;overflow: hidden;text-align: left;background-color: #f0f8ff;}#sk-container-id-4 div.sk-toggleable__content pre {margin: 0.2em;color: black;border-radius: 0.25em;background-color: #f0f8ff;}#sk-container-id-4 input.sk-toggleable__control:checked~div.sk-toggleable__content {max-height: 200px;max-width: 100%;overflow: auto;}#sk-container-id-4 input.sk-toggleable__control:checked~label.sk-toggleable__label-arrow:before {content: \"▾\";}#sk-container-id-4 div.sk-estimator input.sk-toggleable__control:checked~label.sk-toggleable__label {background-color: #d4ebff;}#sk-container-id-4 div.sk-label input.sk-toggleable__control:checked~label.sk-toggleable__label {background-color: #d4ebff;}#sk-container-id-4 input.sk-hidden--visually {border: 0;clip: rect(1px 1px 1px 1px);clip: rect(1px, 1px, 1px, 1px);height: 1px;margin: -1px;overflow: hidden;padding: 0;position: absolute;width: 1px;}#sk-container-id-4 div.sk-estimator {font-family: monospace;background-color: #f0f8ff;border: 1px dotted black;border-radius: 0.25em;box-sizing: border-box;margin-bottom: 0.5em;}#sk-container-id-4 div.sk-estimator:hover {background-color: #d4ebff;}#sk-container-id-4 div.sk-parallel-item::after {content: \"\";width: 100%;border-bottom: 1px solid gray;flex-grow: 1;}#sk-container-id-4 div.sk-label:hover label.sk-toggleable__label {background-color: #d4ebff;}#sk-container-id-4 div.sk-serial::before {content: \"\";position: absolute;border-left: 1px solid gray;box-sizing: border-box;top: 0;bottom: 0;left: 50%;z-index: 0;}#sk-container-id-4 div.sk-serial {display: flex;flex-direction: column;align-items: center;background-color: white;padding-right: 0.2em;padding-left: 0.2em;position: relative;}#sk-container-id-4 div.sk-item {position: relative;z-index: 1;}#sk-container-id-4 div.sk-parallel {display: flex;align-items: stretch;justify-content: center;background-color: white;position: relative;}#sk-container-id-4 div.sk-item::before, #sk-container-id-4 div.sk-parallel-item::before {content: \"\";position: absolute;border-left: 1px solid gray;box-sizing: border-box;top: 0;bottom: 0;left: 50%;z-index: -1;}#sk-container-id-4 div.sk-parallel-item {display: flex;flex-direction: column;z-index: 1;position: relative;background-color: white;}#sk-container-id-4 div.sk-parallel-item:first-child::after {align-self: flex-end;width: 50%;}#sk-container-id-4 div.sk-parallel-item:last-child::after {align-self: flex-start;width: 50%;}#sk-container-id-4 div.sk-parallel-item:only-child::after {width: 0;}#sk-container-id-4 div.sk-dashed-wrapped {border: 1px dashed gray;margin: 0 0.4em 0.5em 0.4em;box-sizing: border-box;padding-bottom: 0.4em;background-color: white;}#sk-container-id-4 div.sk-label label {font-family: monospace;font-weight: bold;display: inline-block;line-height: 1.2em;}#sk-container-id-4 div.sk-label-container {text-align: center;}#sk-container-id-4 div.sk-container {/* jupyter's `normalize.less` sets `[hidden] { display: none; }` but bootstrap.min.css set `[hidden] { display: none !important; }` so we also need the `!important` here to be able to override the default hidden behavior on the sphinx rendered scikit-learn.org. See: https://github.com/scikit-learn/scikit-learn/issues/21755 */display: inline-block !important;position: relative;}#sk-container-id-4 div.sk-text-repr-fallback {display: none;}</style><div id=\"sk-container-id-4\" class=\"sk-top-container\"><div class=\"sk-text-repr-fallback\"><pre>SVC()</pre><b>In a Jupyter environment, please rerun this cell to show the HTML representation or trust the notebook. <br />On GitHub, the HTML representation is unable to render, please try loading this page with nbviewer.org.</b></div><div class=\"sk-container\" hidden><div class=\"sk-item\"><div class=\"sk-estimator sk-toggleable\"><input class=\"sk-toggleable__control sk-hidden--visually\" id=\"sk-estimator-id-4\" type=\"checkbox\" checked><label for=\"sk-estimator-id-4\" class=\"sk-toggleable__label sk-toggleable__label-arrow\">SVC</label><div class=\"sk-toggleable__content\"><pre>SVC()</pre></div></div></div></div></div>"
      ],
      "text/plain": [
       "SVC()"
      ]
     },
     "execution_count": 74,
     "metadata": {},
     "output_type": "execute_result"
    }
   ],
   "source": [
    "# 학습하기 --- (※4)\n",
    "clf = svm.SVC()\n",
    "clf.fit(data[\"freqs\"], data[\"labels\"])"
   ]
  },
  {
   "cell_type": "code",
   "execution_count": 75,
   "id": "ab7623c7",
   "metadata": {},
   "outputs": [],
   "source": [
    "# 예측하기 --- (※5)\n",
    "predict = clf.predict(test[\"freqs\"])"
   ]
  },
  {
   "cell_type": "code",
   "execution_count": 76,
   "id": "33061c31",
   "metadata": {
    "scrolled": true
   },
   "outputs": [
    {
     "name": "stdout",
     "output_type": "stream",
     "text": [
      "정답률 = 1.0\n",
      "리포트 =\n",
      "              precision    recall  f1-score   support\n",
      "\n",
      "          en       1.00      1.00      1.00         5\n",
      "          fr       1.00      1.00      1.00         5\n",
      "          id       1.00      1.00      1.00         5\n",
      "          tl       1.00      1.00      1.00         5\n",
      "\n",
      "    accuracy                           1.00        20\n",
      "   macro avg       1.00      1.00      1.00        20\n",
      "weighted avg       1.00      1.00      1.00        20\n",
      "\n"
     ]
    }
   ],
   "source": [
    "# 결과 테스트하기 --- (※6)\n",
    "ac_score = metrics.accuracy_score(test[\"labels\"], predict)\n",
    "cl_report = metrics.classification_report(test[\"labels\"], predict)\n",
    "print(\"정답률 =\", ac_score)\n",
    "print(\"리포트 =\")\n",
    "print(cl_report)"
   ]
  },
  {
   "cell_type": "markdown",
   "id": "1635e7fd",
   "metadata": {},
   "source": [
    "### 데이터마다의 분포를 그래프로 확인\n",
    "- 알파벳의 빈도가 어떻게 다른지 시각적으로 확인\n"
   ]
  },
  {
   "cell_type": "code",
   "execution_count": 77,
   "id": "30432ff5",
   "metadata": {},
   "outputs": [],
   "source": [
    "import matplotlib.pyplot as plt\n",
    "import pandas as pd\n",
    "import json"
   ]
  },
  {
   "cell_type": "code",
   "execution_count": 79,
   "id": "3c184f80",
   "metadata": {},
   "outputs": [],
   "source": [
    "# 알파벳 출현 빈도 데이터 읽어 들이기 --- (※1)\n",
    "with open(\"./data/freq.json\", \"r\", encoding=\"utf-8\") as fp:\n",
    "    freq = json.load(fp)"
   ]
  },
  {
   "cell_type": "code",
   "execution_count": 80,
   "id": "666c0131",
   "metadata": {},
   "outputs": [],
   "source": [
    "# 언어마다 계산하기 --- (※2)\n",
    "lang_dic = {}\n",
    "for i, lbl in enumerate(freq[0][\"labels\"]):\n",
    "    fq = freq[0][\"freqs\"][i]\n",
    "    if not (lbl in lang_dic):\n",
    "        lang_dic[lbl] = fq\n",
    "        continue\n",
    "    for idx, v in enumerate(fq):\n",
    "        lang_dic[lbl][idx] = (lang_dic[lbl][idx] + v) / 2"
   ]
  },
  {
   "cell_type": "code",
   "execution_count": 111,
   "id": "32fd5d15",
   "metadata": {},
   "outputs": [
    {
     "name": "stdout",
     "output_type": "stream",
     "text": [
      "0 0.14011127971674253\n",
      "1 0.014668689934243804\n",
      "2 0.01669195751138088\n",
      "3 0.02225594334850784\n",
      "4 0.048558421851289835\n",
      "5 0.010116337885685382\n",
      "6 0.05867475973697522\n",
      "7 0.013151239251390997\n",
      "8 0.06272129489124936\n",
      "9 0.005058168942842691\n",
      "10 0.02225594334850784\n",
      "11 0.03945371775417299\n",
      "12 0.035912999494183105\n",
      "13 0.09509357612544259\n",
      "14 0.0637329286798179\n",
      "15 0.051593323216995446\n",
      "16 0.009104704097116844\n",
      "17 0.04552352048558422\n",
      "18 0.05311077389984825\n",
      "19 0.06120384420839656\n",
      "20 0.041476985331310064\n",
      "21 0.012139605462822459\n",
      "22 0.024785027819929185\n",
      "23 0.012139605462822459\n",
      "24 0.027314112291350532\n",
      "25 0.013151239251390997\n"
     ]
    }
   ],
   "source": [
    "for idx, v in enumerate(freq[0]['freqs'][7]):\n",
    "    print(idx, v)"
   ]
  },
  {
   "cell_type": "code",
   "execution_count": 101,
   "id": "15c88ab8",
   "metadata": {},
   "outputs": [
    {
     "data": {
      "text/plain": [
       "8"
      ]
     },
     "execution_count": 101,
     "metadata": {},
     "output_type": "execute_result"
    }
   ],
   "source": [
    "len(freq[0]['freqs'])"
   ]
  },
  {
   "cell_type": "code",
   "execution_count": 81,
   "id": "0f41506a",
   "metadata": {},
   "outputs": [],
   "source": [
    "# Pandas의 DataFrame에 데이터 넣기 --- (※3)\n",
    "asclist = [[chr(n) for n in range(97,97+26)]]\n",
    "df = pd.DataFrame(lang_dic, index=asclist)"
   ]
  },
  {
   "cell_type": "code",
   "execution_count": 112,
   "id": "c4603e3c",
   "metadata": {},
   "outputs": [
    {
     "data": {
      "text/plain": [
       "[['a',\n",
       "  'b',\n",
       "  'c',\n",
       "  'd',\n",
       "  'e',\n",
       "  'f',\n",
       "  'g',\n",
       "  'h',\n",
       "  'i',\n",
       "  'j',\n",
       "  'k',\n",
       "  'l',\n",
       "  'm',\n",
       "  'n',\n",
       "  'o',\n",
       "  'p',\n",
       "  'q',\n",
       "  'r',\n",
       "  's',\n",
       "  't',\n",
       "  'u',\n",
       "  'v',\n",
       "  'w',\n",
       "  'x',\n",
       "  'y',\n",
       "  'z']]"
      ]
     },
     "execution_count": 112,
     "metadata": {},
     "output_type": "execute_result"
    }
   ],
   "source": [
    "asclist"
   ]
  },
  {
   "cell_type": "code",
   "execution_count": 82,
   "id": "723e5d5e",
   "metadata": {
    "scrolled": true
   },
   "outputs": [
    {
     "data": {
      "text/html": [
       "<div>\n",
       "<style scoped>\n",
       "    .dataframe tbody tr th:only-of-type {\n",
       "        vertical-align: middle;\n",
       "    }\n",
       "\n",
       "    .dataframe tbody tr th {\n",
       "        vertical-align: top;\n",
       "    }\n",
       "\n",
       "    .dataframe thead th {\n",
       "        text-align: right;\n",
       "    }\n",
       "</style>\n",
       "<table border=\"1\" class=\"dataframe\">\n",
       "  <thead>\n",
       "    <tr style=\"text-align: right;\">\n",
       "      <th></th>\n",
       "      <th>en</th>\n",
       "      <th>fr</th>\n",
       "      <th>id</th>\n",
       "      <th>tl</th>\n",
       "    </tr>\n",
       "  </thead>\n",
       "  <tbody>\n",
       "    <tr>\n",
       "      <th>a</th>\n",
       "      <td>0.073685</td>\n",
       "      <td>0.063721</td>\n",
       "      <td>0.130882</td>\n",
       "      <td>0.161697</td>\n",
       "    </tr>\n",
       "    <tr>\n",
       "      <th>b</th>\n",
       "      <td>0.014759</td>\n",
       "      <td>0.011627</td>\n",
       "      <td>0.023609</td>\n",
       "      <td>0.017067</td>\n",
       "    </tr>\n",
       "    <tr>\n",
       "      <th>c</th>\n",
       "      <td>0.034693</td>\n",
       "      <td>0.036861</td>\n",
       "      <td>0.014649</td>\n",
       "      <td>0.015481</td>\n",
       "    </tr>\n",
       "    <tr>\n",
       "      <th>d</th>\n",
       "      <td>0.043393</td>\n",
       "      <td>0.044747</td>\n",
       "      <td>0.041807</td>\n",
       "      <td>0.024381</td>\n",
       "    </tr>\n",
       "    <tr>\n",
       "      <th>e</th>\n",
       "      <td>0.122436</td>\n",
       "      <td>0.132109</td>\n",
       "      <td>0.086407</td>\n",
       "      <td>0.040695</td>\n",
       "    </tr>\n",
       "  </tbody>\n",
       "</table>\n",
       "</div>"
      ],
      "text/plain": [
       "         en        fr        id        tl\n",
       "a  0.073685  0.063721  0.130882  0.161697\n",
       "b  0.014759  0.011627  0.023609  0.017067\n",
       "c  0.034693  0.036861  0.014649  0.015481\n",
       "d  0.043393  0.044747  0.041807  0.024381\n",
       "e  0.122436  0.132109  0.086407  0.040695"
      ]
     },
     "execution_count": 82,
     "metadata": {},
     "output_type": "execute_result"
    }
   ],
   "source": [
    "df.head()"
   ]
  },
  {
   "cell_type": "code",
   "execution_count": 83,
   "id": "cc63207d",
   "metadata": {
    "scrolled": true
   },
   "outputs": [
    {
     "data": {
      "image/png": "[encoded data removed]",
      "text/plain": [
       "<Figure size 432x288 with 4 Axes>"
      ]
     },
     "metadata": {
      "needs_background": "light"
     },
     "output_type": "display_data"
    }
   ],
   "source": [
    "# 그래프 그리기 --- (※4)\n",
    "df.plot(kind=\"bar\", subplots=True, ylim=(0,0.15))\n",
    "plt.savefig(\"lang-plot.png\")"
   ]
  },
  {
   "cell_type": "code",
   "execution_count": 86,
   "id": "7f438775",
   "metadata": {
    "scrolled": true
   },
   "outputs": [
    {
     "data": {
      "text/plain": [
       "<AxesSubplot:>"
      ]
     },
     "execution_count": 86,
     "metadata": {},
     "output_type": "execute_result"
    },
    {
     "data": {
      "image/png": "[encoded data removed]",
      "text/plain": [
       "<Figure size 432x288 with 1 Axes>"
      ]
     },
     "metadata": {
      "needs_background": "light"
     },
     "output_type": "display_data"
    }
   ],
   "source": [
    "# 다른 그래프로 확인\n",
    "df.plot(kind='line')"
   ]
  },
  {
   "cell_type": "markdown",
   "id": "b58c7920",
   "metadata": {},
   "source": [
    "예측모델 파일로 만들기\n",
    "joblib 설치\n",
    "pip install joblib\n",
    "dump() : 모델 파일생성\n",
    "load() : 파이 읽기\n"
   ]
  },
  {
   "cell_type": "code",
   "execution_count": 90,
   "id": "230f258e",
   "metadata": {},
   "outputs": [
    {
     "data": {
      "text/plain": [
       "['./data/freq.pkl']"
      ]
     },
     "execution_count": 90,
     "metadata": {},
     "output_type": "execute_result"
    }
   ],
   "source": [
    "import joblib\n",
    "\n",
    "with open('./data/freq.json', 'r', encoding='utf-8') as f:\n",
    "    d = json.load(f)\n",
    "    data = d[0]\n",
    "\n",
    "clf=svm.SVC()\n",
    "clf.fit(data['freqs'], data['labels'])\n",
    "\n",
    "joblib.dump(clf, './data/freq.pkl')"
   ]
  },
  {
   "cell_type": "markdown",
   "id": "34d9b368",
   "metadata": {},
   "source": [
    "### Web 인터페이스 추가\n",
    "- 언어판정 모델을 활용해서 언어 판정 웹 서비스 개발\n",
    "- 훈련 모델과 Flask 사용\n",
    "### 폴더구성\n",
    "- data/freq.pkl\n",
    "- data/lang_result.html\n",
    "- data/app.py"
   ]
  },
  {
   "cell_type": "markdown",
   "id": "60ca5bdc",
   "metadata": {},
   "source": [
    "# app01.py\n",
    "from flask import Flask, request, render_template\n",
    "from sklearn import svm\n",
    "import joblib\n",
    "\n",
    "app = Flask(__name__)\n",
    "\n",
    "# 판정하기\n",
    "def detect_lang(text):\n",
    "    # 학습 데이터 읽어 들이기\n",
    "    pklfile = 'data/freq.pkl'\n",
    "    clf = joblib.load(pklfile)\n",
    "\n",
    "    # 알파벳 출현 빈도 구하기\n",
    "    text = text.lower()\n",
    "    code_a, code_z = (ord(\"a\"), ord(\"z\"))\n",
    "    cnt = [0 for i in range(26)]\n",
    "    for ch in text:\n",
    "        n = ord(ch) - code_a\n",
    "        if 0 <= n < 26: cnt[n] += 1\n",
    "    total = sum(cnt)\n",
    "    if total == 0: return \"입력이 없습니다\"\n",
    "    freq = list(map(lambda n: n/total, cnt))\n",
    "    # 언어 예측하기\n",
    "    res = clf.predict([freq])\n",
    "    # 언어 코드를 한국어로 변환하기\n",
    "    lang_dic = {\"en\":\"영어\",\"fr\":\"프랑스어\",\n",
    "        \"id\":\"인도네시아어\", \"tl\":\"타갈로그어\"}\n",
    "    return lang_dic[res[0]]\n",
    "\n",
    "@app.route('/')\n",
    "def index():\n",
    "    return render_template('lang_result.html')\n",
    "@app.route('/result',methods=['post'])\n",
    "def result():\n",
    "    data = request.form['data']\n",
    "    lang = detect_lang(data)\n",
    "    return render_template('lang_result.html',result=lang)\n",
    "\n",
    "\n",
    "if __name__ == '__main__':\n",
    "    app.run(debug=True)\n"
   ]
  },
  {
   "cell_type": "markdown",
   "id": "73fb1b36",
   "metadata": {},
   "source": [
    "### <!DOCTYPE html>\n",
    "<html lang=\"ko\">\n",
    "<head>\n",
    "    <meta charset=\"UTF-8\">\n",
    "    <title>lang_result.html</title>\n",
    "</head>\n",
    "<body>\n",
    "<h1>\n",
    "    입력 Input<hr>\n",
    "    <form action=\"/result\" method=\"post\">\n",
    "        <textarea name=\"data\" rows=\"8\" cols=\"40\"></textarea>\n",
    "        <p><input type=\"submit\" value=\"판정\"></p>\n",
    "    </form>\n",
    "    결과 Result<hr>\n",
    "    {{ result }}\n",
    "</h1>\n",
    "</body>\n",
    "</html>\n"
   ]
  }
 ],
 "metadata": {
  "kernelspec": {
   "display_name": "Python 3 (ipykernel)",
   "language": "python",
   "name": "python3"
  },
  "language_info": {
   "codemirror_mode": {
    "name": "ipython",
    "version": 3
   },
   "file_extension": ".py",
   "mimetype": "text/x-python",
   "name": "python",
   "nbconvert_exporter": "python",
   "pygments_lexer": "ipython3",
   "version": "3.8.13"
  }
 },
 "nbformat": 4,
 "nbformat_minor": 5
}
